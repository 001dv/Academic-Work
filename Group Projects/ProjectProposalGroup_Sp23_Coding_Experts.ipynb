{
 "cells": [
  {
   "cell_type": "markdown",
   "metadata": {},
   "source": [
    "# COGS 108 - Final Project Proposal"
   ]
  },
  {
   "attachments": {},
   "cell_type": "markdown",
   "metadata": {},
   "source": [
    "# Names\n",
    "\n",
    "- Prabhjyot Sodhi\n",
    "- Sahithi Karumudi\n",
    "- Yash Patki\n",
    "- Joy Yue Lam (Joyce)\n",
    "- David Boateng\n"
   ]
  },
  {
   "cell_type": "markdown",
   "metadata": {},
   "source": [
    "# Research Question"
   ]
  },
  {
   "attachments": {},
   "cell_type": "markdown",
   "metadata": {},
   "source": [
    "What is the relationship between family, GDP, education, and other factors in determining the overall happiness of a country? Which factors have the strongest correlation with happiness, and how do they interrelate?"
   ]
  },
  {
   "cell_type": "markdown",
   "metadata": {},
   "source": [
    "## Background and Prior Work"
   ]
  },
  {
   "attachments": {},
   "cell_type": "markdown",
   "metadata": {},
   "source": [
    "\n",
    "Happiness is an attribute that has long been something that people strive to attain in life despite its poor definition in concrete terms. There have been various institutions and organizations that have attempted to define happiness through many metrics, constructs, and socioeconomic factors in order for us to understand and perhaps determine a “formula” to measure happiness.\n",
    "\n",
    "The World Happiness Report is an influential survey that measures the state of global happiness. It has been published annually since 2012, followed by the second in 2013, the third in 2015, and the fourth in the 2016 Update. The United Nations Sustainable Development Solutions Network released the World Happiness 2017 Report on March 20th, the International Day of Happiness, ranking 155 countries based on their happiness levels. The United Nations held an event to celebrate the publication.\n",
    "\n",
    "The [World Happiness Report](https://worldhappiness.report/) measures global happiness and well-being using the Cantril ladder, a self-anchoring scale that asks respondents to rate their current lives on a scale of 0 to 10, with 10 being the best possible life and 0 being the worst possible life. The report accounts for six key factors contributing to a country's life evaluations, including economic production, social support, life expectancy, freedom, absence of corruption, and generosity. \n",
    "\n",
    "The report is authored by leading experts from a variety of fields, such as economics, psychology, and public policy, and it provides insights into how well-being can be used to assess a nation's progress and compare them to a hypothetical country named Dystopia. Which represents the lowest national averages for each factor, a place where happiness is at its lowest. \n",
    "\n",
    "These factors contribute to a country's life evaluations, which explains why some countries rank higher than others. However, the six factors do not affect a country's total score, but rather provide a better understanding of the rankings.\n",
    "\n"
   ]
  },
  {
   "cell_type": "markdown",
   "metadata": {},
   "source": [
    "# Hypothesis\n"
   ]
  },
  {
   "attachments": {},
   "cell_type": "markdown",
   "metadata": {},
   "source": [
    "Countries with higher scores in GDP and Family factors are more likely to have a positive correlation leading to higher rankings in overall happiness. \n",
    "\n",
    "It is quite possible that countries with higher GDPs have more money to spend on social programs and other factors that contribute to happiness. It is also possible that countries with higher Family scores have more social support and are more likely to have higher GDPs."
   ]
  },
  {
   "cell_type": "markdown",
   "metadata": {},
   "source": [
    "# Data"
   ]
  },
  {
   "attachments": {},
   "cell_type": "markdown",
   "metadata": {},
   "source": [
    "The ideal dataset would have information regarding various socioeconomic factors that are related to a country’s performance or well-being. Examples include GDP, inflation levels, and different types of economic factors. For social factors, we would want to know about the crime rate, housing information, poverty levels, literacy levels, or even weather. In short, these are some key factors that we believe may be related to living a fulfilling life and therefore a happier life. Hence, our ideal data set would include as much detail as possible in these areas so we can run analyses on a wide range of factors that may be related to ‘Happiness’ as a construct. \n",
    "\n",
    "We will be using data that has been collected by the World Happiness Report. The data includes information that has been collected from 2015 to 2023. \n",
    "\n",
    " Between 2015-2023 of the World Happiness Report, there are about 9 columns by average of 155 countries which gives us roughly 1395 observations for each dataset. The columns include: country, region, happiness rank, happiness score, standard error, economy (GDP per capita), family (social support), health (life expectancy), freedom, trust, generosity, and dystopia residual. Between iterations of the World Happiness Report, there are slight changes in the columns reported on to measure happiness, but we plan to utilize these six factors: economy, freedom, trust, generosity, health, and family along with the countries and the corresponding happiness scores. After 2017, they renamed the feature  “family” to “social support” (Helliwell et al., 2017). \n",
    "\n",
    " We have multiple datasets with observations spanning nine years. Each dataset has a similar structure, as mentioned before, with columns labeled Country, Region, Happiness Rank, Happiness Score, Standard Error, Economy (GDP per capita), Family, Health (Life Expectancy), Freedom, Trust, Government, Generosity, and Dystopia Residual for each country. Over the years, some constructs have begun to be called different things (i.e. ‘Family’ to ‘Social Support’) but we intend to continue using such columns in the same way since they are practically measuring the same factors. We intend to only analyze the properties of countries that have data for every single year in the range (2015-2023) so we can be as consistent and precise in our conclusions to find trends over the years and be able to compare between countries. We acknowledge that these labels have changed slightly but we intend to focus our analysis on the following factors: GDP, Health (Life Expectancy), Family/Social Support, Generosity, Trust, and Freedom in relation to how individuals in each country evaluated their overall happiness. "
   ]
  },
  {
   "cell_type": "markdown",
   "metadata": {},
   "source": [
    "# Ethics & Privacy"
   ]
  },
  {
   "attachments": {},
   "cell_type": "markdown",
   "metadata": {},
   "source": [
    "To counter any potential bias in the World Happiness Report dataset, it is important to consider the demographic factors of the dataset. The World Happiness Report is based on surveys conducted in each country, so we need to ensure that the sample is representative of the country’s population. If certain demographic groups are underrepresented in the sample, this could result in biased results. Besides, after 2016, the World Happiness Report changed the way of measuring happiness, in which they added “generosity” as one of the new factors. Moreover, response rates may be different across different demographic groups as well.\n",
    "\n",
    "To counter demographic bias:\n",
    "- Ensure the sample is representative of the population of interest. \n",
    "- Analyze the data from different demographic perspectives\n",
    "- Verify the quality of the survey methodology\n",
    "- Be transparent of the limitations of the data \n"
   ]
  },
  {
   "cell_type": "markdown",
   "metadata": {},
   "source": [
    "# Team Expectations "
   ]
  },
  {
   "attachments": {},
   "cell_type": "markdown",
   "metadata": {},
   "source": [
    "\n",
    "- **Communication:** We all know each other through different classes and communication is key for a successful project. \n",
    "- **Regular Updates:** We all expect that all team members will remain in constant touch with each other about what’s going on in the project so that nobody is left out. We have made a group chat where we update each other regularly and expect responses within 24 hours. \n",
    "- **Organization:** We will keep track of project details, such as deadlines and meeting schedules, and use project management tools to ensure everyone is on the same page.\n",
    "- **Collaboration and Learning:** We all will make sure that the tasks and responsibilities are well distributed and that everyone gets the work that they are most comfortable with while having the opportunity to develop skills in new areas. \n",
    "- **Respect:** We also expect that we respect and will listen to each other’s ideas or thoughts to get to a well-balanced solution. \n",
    "- **Shared Goal:** And at last, we all aim to improve throughout the class and make a successful project."
   ]
  },
  {
   "cell_type": "markdown",
   "metadata": {},
   "source": [
    "# Project Timeline Proposal"
   ]
  },
  {
   "attachments": {},
   "cell_type": "markdown",
   "metadata": {},
   "source": [
    "This is a rough timeline of how we plan to complete the project by the due date. We will be meeting at least once a week to discuss the progress of the project and to make sure that we are on track. We will also be communicating through our group chat to make sure that everyone is on the same page.\n",
    "\n",
    "| Week | Tasks for the Week |\n",
    "|---|---|\n",
    "| 6 | - Find Dataset <br> - Begin Cleaning Dataset | \n",
    "| 7 | - Continue Cleaning Dataset <br> - Identify Data Trends and Particular Topics of Interest <br> - Begin Analysis |\n",
    "| 8 | - Continue Analysis <br> - EDA |\n",
    "| 9 | - Iterated EDA <br> - Begin Drafting Report |\n",
    "| 10 | - Finalize Analysis <br> - Finalize Report |\n",
    "\n"
   ]
  },
  {
   "cell_type": "code",
   "execution_count": null,
   "metadata": {},
   "outputs": [],
   "source": []
  }
 ],
 "metadata": {
  "kernelspec": {
   "display_name": "Python 3",
   "language": "python",
   "name": "python3"
  },
  "language_info": {
   "codemirror_mode": {
    "name": "ipython",
    "version": 3
   },
   "file_extension": ".py",
   "mimetype": "text/x-python",
   "name": "python",
   "nbconvert_exporter": "python",
   "pygments_lexer": "ipython3",
   "version": "3.8.8"
  }
 },
 "nbformat": 4,
 "nbformat_minor": 2
}
